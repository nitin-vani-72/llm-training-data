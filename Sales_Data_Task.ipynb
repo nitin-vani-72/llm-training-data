{
 "cells": [
  {
   "cell_type": "code",
   "execution_count": 1,
   "id": "b493a623-20ea-4b0b-a4e2-0495dd2e6ef5",
   "metadata": {},
   "outputs": [],
   "source": [
    "import pandas as pd"
   ]
  },
  {
   "cell_type": "code",
   "execution_count": 4,
   "id": "430c0ed2-959f-42ac-be86-981ad84ac4bc",
   "metadata": {},
   "outputs": [
    {
     "name": "stdout",
     "output_type": "stream",
     "text": [
      "   Transaction_ID        Date Product_ID  Quantity  Price Store_ID\n",
      "0               1  2023-01-15       P001         3    150      S01\n",
      "1               2  2023-01-16       P002         2    290      S01\n",
      "2               3  2023-01-16       P003         1    450      S02\n",
      "3               4  2023-01-17       P004         5    130      S02\n",
      "4               5  2023-01-18       P005         2    200      S03\n",
      "5               6  2023-02-15       P001         4    150      S01\n",
      "6               7  2023-02-17       P002         3    290      S02\n",
      "7               8  2023-03-15       P006         1    310      S03\n",
      "8               9  2023-03-16       P007         2    120      S01\n",
      "9              10  2023-03-17       P008         3    150      S02\n"
     ]
    }
   ],
   "source": [
    "sales_data = pd.read_csv('Sales_Data.csv')\n",
    "print(sales_data)"
   ]
  },
  {
   "cell_type": "code",
   "execution_count": 7,
   "id": "fa70f15e-5b62-4e8a-9d3f-3ebc710c91c4",
   "metadata": {},
   "outputs": [
    {
     "name": "stdout",
     "output_type": "stream",
     "text": [
      "Missing Values:\n",
      " Transaction_ID    0\n",
      "Date              0\n",
      "Product_ID        0\n",
      "Quantity          0\n",
      "Price             0\n",
      "Store_ID          0\n",
      "dtype: int64\n"
     ]
    }
   ],
   "source": [
    "missing_values = sales_data.isnull().sum()\n",
    "print(\"Missing Values:\\n\", missing_values)"
   ]
  },
  {
   "cell_type": "code",
   "execution_count": 8,
   "id": "efad693f-387b-4496-9194-fa3082c2a009",
   "metadata": {},
   "outputs": [],
   "source": [
    "sales_data.dropna(inplace=True)"
   ]
  },
  {
   "cell_type": "code",
   "execution_count": 10,
   "id": "fd54962a-16b9-4ecf-8552-9c1a9dd8aeea",
   "metadata": {},
   "outputs": [],
   "source": [
    "sales_data['Date'] = pd.to_datetime(sales_data['Date'])"
   ]
  },
  {
   "cell_type": "code",
   "execution_count": 16,
   "id": "bdfdd942-e997-4674-8519-dd256fefb5ff",
   "metadata": {},
   "outputs": [],
   "source": [
    "sales_data['Total_Sales'] = sales_data['Quantity'] * sales_data['Price']\n",
    "sales_data['Year'] = sales_data['Date'].dt.year"
   ]
  },
  {
   "cell_type": "code",
   "execution_count": 17,
   "id": "d1054c8d-9f00-4c29-97c2-ddbb644cffe4",
   "metadata": {},
   "outputs": [],
   "source": [
    "total_sales_per_store = sales_data.groupby('Store_ID')['Total_Sales'].sum()"
   ]
  },
  {
   "cell_type": "code",
   "execution_count": 30,
   "id": "8c7d8334-1632-4a41-a0ed-c5e96bfd653a",
   "metadata": {},
   "outputs": [],
   "source": [
    "year_with_highest_sales = sales_data.groupby('Year')['Total_Sales'].sum().idxmax()\n",
    "monthly_sales_trends = sales_data[sales_data['Year'] == year_with_highest_sales].groupby(sales_data['Date'].dt.month)['Total_Sales'].sum()"
   ]
  },
  {
   "cell_type": "code",
   "execution_count": 35,
   "id": "9c00aee9-d337-4865-bbf1-05148ed4e891",
   "metadata": {},
   "outputs": [],
   "source": [
    "top_3_products = sales_data.groupby('Product_ID')['Total_Sales'].sum().nlargest(3)"
   ]
  },
  {
   "cell_type": "code",
   "execution_count": 36,
   "id": "e955df33-48d9-4d12-8388-266cf728aad5",
   "metadata": {},
   "outputs": [
    {
     "name": "stdout",
     "output_type": "stream",
     "text": [
      "   Transaction_ID       Date Product_ID  Quantity  Price Store_ID  \\\n",
      "0               1 2023-01-15       P001         3    150      S01   \n",
      "1               2 2023-01-16       P002         2    290      S01   \n",
      "2               3 2023-01-16       P003         1    450      S02   \n",
      "3               4 2023-01-17       P004         5    130      S02   \n",
      "4               5 2023-01-18       P005         2    200      S03   \n",
      "5               6 2023-02-15       P001         4    150      S01   \n",
      "6               7 2023-02-17       P002         3    290      S02   \n",
      "7               8 2023-03-15       P006         1    310      S03   \n",
      "8               9 2023-03-16       P007         2    120      S01   \n",
      "9              10 2023-03-17       P008         3    150      S02   \n",
      "\n",
      "   Total_Sales  Year  \n",
      "0          450  2023  \n",
      "1          580  2023  \n",
      "2          450  2023  \n",
      "3          650  2023  \n",
      "4          400  2023  \n",
      "5          600  2023  \n",
      "6          870  2023  \n",
      "7          310  2023  \n",
      "8          240  2023  \n",
      "9          450  2023  \n",
      "(10, 8)\n",
      "Store_ID\n",
      "S01    1870\n",
      "S02    2420\n",
      "S03     710\n",
      "Name: Total_Sales, dtype: int64\n",
      "2023\n",
      "Date\n",
      "1    2530\n",
      "2    1470\n",
      "3    1000\n",
      "Name: Total_Sales, dtype: int64\n",
      "Product_ID\n",
      "P002    1450\n",
      "P001    1050\n",
      "P004     650\n",
      "Name: Total_Sales, dtype: int64\n"
     ]
    }
   ],
   "source": [
    "print(sales_data)\n",
    "print(sales_data.shape)\n",
    "print(total_sales_per_store)\n",
    "print(year_with_highest_sales)\n",
    "print(monthly_sales_trends)\n",
    "print(top_3_products)"
   ]
  },
  {
   "cell_type": "code",
   "execution_count": null,
   "id": "a32c4b3f-691c-415c-a7d7-a55697204540",
   "metadata": {},
   "outputs": [],
   "source": []
  }
 ],
 "metadata": {
  "kernelspec": {
   "display_name": "Python 3 (ipykernel)",
   "language": "python",
   "name": "python3"
  },
  "language_info": {
   "codemirror_mode": {
    "name": "ipython",
    "version": 3
   },
   "file_extension": ".py",
   "mimetype": "text/x-python",
   "name": "python",
   "nbconvert_exporter": "python",
   "pygments_lexer": "ipython3",
   "version": "3.11.3"
  }
 },
 "nbformat": 4,
 "nbformat_minor": 5
}
